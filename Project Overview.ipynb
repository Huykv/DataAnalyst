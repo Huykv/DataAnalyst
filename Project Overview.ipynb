{
 "cells": [
  {
   "cell_type": "markdown",
   "metadata": {},
   "source": [
    "## **Background on the TikTok scenario**\n",
    "\n",
    "At TikTok, our mission is to inspire creativity and bring joy. Our employees lead with curiosity and move at the speed of culture. Combined with our company's flat structure, you'll be given dynamic opportunities to make a real impact on a rapidly expanding company and grow your career.\n",
    "\n",
    "TikTok users have the ability to submit reports that identify videos and comments that contain user claims. These reports identify content that needs to be reviewed by moderators. The process generates a large number of user reports that are challenging to consider in a timely manner. \n",
    "\n",
    "TikTok is working on the development of a predictive model that can determine whether a video contains a claim or offers an opinion. With a successful prediction model, TikTok can reduce the backlog of user reports and prioritize them more efficiently."
   ]
  },
  {
   "cell_type": "markdown",
   "metadata": {},
   "source": [
    "**Team members at TikTok**\n",
    "\n",
    "Data team roles:\n",
    "\n",
    "* Willow Jaffey- Data Science Lead\n",
    "\n",
    "* Rosie Mae Bradshaw- Data Science Manager\n",
    "\n",
    "* Orion Rainier- Data Scientist\n",
    "\n",
    "The members of the data team at TikTok are well versed in data analysis and data science. Messages to these more technical coworkers should be concise and specific.\n",
    "\n",
    "Cross-functional team members:\n",
    "\n",
    "* Mary Joanna Rodgers- Project Management Officer\n",
    "\n",
    "* Margery Adebowale- Finance Lead, Americas\n",
    "\n",
    "* Maika Abadi- Operations Lead\n",
    "\n",
    "Your TikTok team includes several managers, who oversee operations. It is important to adjust your general correspondence appropriately to their roles, given that their responsibilities are less technical in nature. "
   ]
  }
 ],
 "metadata": {
  "language_info": {
   "name": "python"
  }
 },
 "nbformat": 4,
 "nbformat_minor": 2
}
